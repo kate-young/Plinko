{
 "cells": [
  {
   "cell_type": "code",
   "execution_count": 29,
   "metadata": {
    "collapsed": true
   },
   "outputs": [],
   "source": [
    "from numpy import random, histogram\n",
    "from matplotlib import pyplot as plt"
   ]
  },
  {
   "cell_type": "code",
   "execution_count": 15,
   "metadata": {},
   "outputs": [],
   "source": [
    "SEED = 100\n",
    "random.seed(SEED)"
   ]
  },
  {
   "cell_type": "markdown",
   "metadata": {},
   "source": [
    "Define board configuration"
   ]
  },
  {
   "cell_type": "code",
   "execution_count": 145,
   "metadata": {
    "collapsed": true
   },
   "outputs": [],
   "source": [
    "odd_notches = [x for x in range(1,10)] # notch positions in odd rows\n",
    "even_notches = [x for x in range(1,9)] # notch positions even rows\n",
    "rows = [x for x in range(1,14)]        # rows"
   ]
  },
  {
   "cell_type": "code",
   "execution_count": 173,
   "metadata": {},
   "outputs": [
    {
     "name": "stdout",
     "output_type": "stream",
     "text": [
      "\n",
      " _ _ _ _ _ _ _ _ _ \n",
      "  _ _ _ _ _ _ _ _\n",
      " _ _ _ _ _ _ _ _ _ \n",
      "  _ _ _ _ _ _ _ _\n",
      " _ _ _ _ _ _ _ _ _ \n",
      "  _ _ _ _ _ _ _ _\n",
      " _ _ _ _ _ _ _ _ _ \n",
      "  _ _ _ _ _ _ _ _\n",
      " _ _ _ _ _ _ _ _ _ \n",
      "  _ _ _ _ _ _ _ _\n",
      " _ _ _ _ _ _ _ _ _ \n",
      "  _ _ _ _ _ _ _ _\n",
      " _ _ _ _ _ _ _ _ _ "
     ]
    }
   ],
   "source": [
    "for r in rows:\n",
    "    if r%2 == 1:\n",
    "        print(\"\\n\", end=\" \")\n",
    "        for n in odd_notches:\n",
    "            print(\"_ \", end=\"\")\n",
    "    if r%2 == 0:\n",
    "        print(\"\\n\", end=\" \")\n",
    "        for n in even_notches:\n",
    "            print(\" _\", end=\"\")"
   ]
  },
  {
   "cell_type": "markdown",
   "metadata": {},
   "source": [
    "Define Starting Position"
   ]
  },
  {
   "cell_type": "code",
   "execution_count": 78,
   "metadata": {
    "collapsed": true
   },
   "outputs": [],
   "source": [
    "start_pos = 6"
   ]
  },
  {
   "cell_type": "code",
   "execution_count": 151,
   "metadata": {
    "collapsed": true
   },
   "outputs": [],
   "source": [
    "def get_next(start, r):\n",
    "    if r == 13:\n",
    "        return start\n",
    "    rand = random.random()\n",
    "    # Odd Notches\n",
    "    if r % 2 == 1:\n",
    "        if start == 1:\n",
    "            nxt = 1\n",
    "        elif start == max(odd_notches):\n",
    "            nxt = max(even_notches)\n",
    "        elif rand < 0.5:\n",
    "            nxt = start - 1\n",
    "        else:\n",
    "            nxt = start\n",
    "    # Even Notches\n",
    "    if r % 2 == 0:\n",
    "        if start == 1:\n",
    "            nxt = 1\n",
    "        elif rand < 0.5:\n",
    "            nxt = start\n",
    "        else:\n",
    "            nxt = start + 1\n",
    "    return get_next(nxt, r + 1)\n",
    "        "
   ]
  },
  {
   "cell_type": "code",
   "execution_count": 152,
   "metadata": {
    "collapsed": true
   },
   "outputs": [],
   "source": [
    "results = list()\n",
    "for i in range(0,500000):\n",
    "    results.append(get_next(start_pos, 1))"
   ]
  },
  {
   "cell_type": "code",
   "execution_count": 153,
   "metadata": {},
   "outputs": [
    {
     "data": {
      "image/png": "[encoded data removed]",
      "text/plain": [
       "<matplotlib.figure.Figure at 0x115c8a7f0>"
      ]
     },
     "metadata": {},
     "output_type": "display_data"
    }
   ],
   "source": [
    "plt.hist(results, [x for x in range(1,11)], density=True)\n",
    "plt.show()"
   ]
  },
  {
   "cell_type": "code",
   "execution_count": 74,
   "metadata": {
    "collapsed": true
   },
   "outputs": [],
   "source": [
    "values = [100, 500, 1000, 0, 10000, 0, 1000, 500, 100]"
   ]
  },
  {
   "cell_type": "code",
   "execution_count": 75,
   "metadata": {
    "collapsed": true
   },
   "outputs": [],
   "source": [
    "def expected(results):\n",
    "    probs = histogram(results, density=True, bins=range(1,11))[0]\n",
    "    return sum(probs*values)"
   ]
  },
  {
   "cell_type": "code",
   "execution_count": 76,
   "metadata": {},
   "outputs": [
    {
     "data": {
      "text/plain": [
       "2253.3142000000003"
      ]
     },
     "execution_count": 76,
     "metadata": {},
     "output_type": "execute_result"
    }
   ],
   "source": [
    "expected(results)"
   ]
  },
  {
   "cell_type": "code",
   "execution_count": 158,
   "metadata": {
    "collapsed": true
   },
   "outputs": [],
   "source": [
    "def simulate(start_pos):\n",
    "    results = list()\n",
    "    for i in range(0,500000):\n",
    "        results.append(get_next(start_pos, 1))\n",
    "    probs = histogram(results, density=True, bins=range(1,11))[0]\n",
    "    return {\n",
    "        \"probability density\": list(probs),\n",
    "        \"expected value\": sum(probs*values)\n",
    "    }"
   ]
  },
  {
   "cell_type": "code",
   "execution_count": 163,
   "metadata": {},
   "outputs": [],
   "source": [
    "expected = list()\n",
    "for x in range(1,10):\n",
    "    s = simulate(x)\n",
    "    expected.append(s)"
   ]
  },
  {
   "cell_type": "code",
   "execution_count": null,
   "metadata": {
    "collapsed": true
   },
   "outputs": [],
   "source": [
    "expected"
   ]
  }
 ],
 "metadata": {
  "kernelspec": {
   "display_name": "Python 3",
   "language": "python",
   "name": "python3"
  },
  "language_info": {
   "codemirror_mode": {
    "name": "ipython",
    "version": 3
   },
   "file_extension": ".py",
   "mimetype": "text/x-python",
   "name": "python",
   "nbconvert_exporter": "python",
   "pygments_lexer": "ipython3",
   "version": "3.6.3"
  }
 },
 "nbformat": 4,
 "nbformat_minor": 2
}
