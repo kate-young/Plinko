{
 "cells": [
  {
   "cell_type": "code",
   "execution_count": 1,
   "metadata": {
    "collapsed": true
   },
   "outputs": [],
   "source": [
    "from numpy import random, histogram\n",
    "from matplotlib import pyplot as plt\n",
    "import pandas as pd"
   ]
  },
  {
   "cell_type": "code",
   "execution_count": 2,
   "metadata": {
    "collapsed": true
   },
   "outputs": [],
   "source": [
    "SEED = 100"
   ]
  },
  {
   "cell_type": "markdown",
   "metadata": {},
   "source": [
    "Define board configuration"
   ]
  },
  {
   "cell_type": "code",
   "execution_count": 3,
   "metadata": {
    "collapsed": true
   },
   "outputs": [],
   "source": [
    "odd_notches = [x for x in range(1,10)] # notch positions in odd rows\n",
    "even_notches = [x for x in range(1,9)] # notch positions even rows\n",
    "rows = [x for x in range(1,14)]        # rows"
   ]
  },
  {
   "cell_type": "code",
   "execution_count": 4,
   "metadata": {},
   "outputs": [
    {
     "name": "stdout",
     "output_type": "stream",
     "text": [
      "\n",
      " _ _ _ _ _ _ _ _ _ \n",
      "  _ _ _ _ _ _ _ _\n",
      " _ _ _ _ _ _ _ _ _ \n",
      "  _ _ _ _ _ _ _ _\n",
      " _ _ _ _ _ _ _ _ _ \n",
      "  _ _ _ _ _ _ _ _\n",
      " _ _ _ _ _ _ _ _ _ \n",
      "  _ _ _ _ _ _ _ _\n",
      " _ _ _ _ _ _ _ _ _ \n",
      "  _ _ _ _ _ _ _ _\n",
      " _ _ _ _ _ _ _ _ _ \n",
      "  _ _ _ _ _ _ _ _\n",
      " _ _ _ _ _ _ _ _ _ "
     ]
    }
   ],
   "source": [
    "for r in rows:\n",
    "    if r%2 == 1:\n",
    "        print(\"\\n\", end=\" \")\n",
    "        for n in odd_notches:\n",
    "            print(\"_ \", end=\"\")\n",
    "    if r%2 == 0:\n",
    "        print(\"\\n\", end=\" \")\n",
    "        for n in even_notches:\n",
    "            print(\" _\", end=\"\")"
   ]
  },
  {
   "cell_type": "markdown",
   "metadata": {},
   "source": [
    "Define Starting Position"
   ]
  },
  {
   "cell_type": "code",
   "execution_count": 5,
   "metadata": {
    "collapsed": true
   },
   "outputs": [],
   "source": [
    "start_pos = 5"
   ]
  },
  {
   "cell_type": "code",
   "execution_count": 6,
   "metadata": {
    "collapsed": true
   },
   "outputs": [],
   "source": [
    "def get_next(start, r):\n",
    "    if r == 13:\n",
    "        return start\n",
    "    rand = random.choice([0, 1])\n",
    "    # Odd Notches\n",
    "    if r % 2 == 1:\n",
    "        if start == 1:                  # if at left edge, go right\n",
    "            nxt = 1\n",
    "        elif start == max(odd_notches): # if at right edge, go left\n",
    "            nxt = max(even_notches)\n",
    "        elif rand == 0:                 # if rand == 0, go left\n",
    "            nxt = start - 1\n",
    "        else:                           # if rand == 1, go right\n",
    "            nxt = start\n",
    "    # Even Notches\n",
    "    if r % 2 == 0:\n",
    "        if rand == 0:                   # if rand == 0, go left\n",
    "            nxt = start\n",
    "        else:                           # if rand == 1, go right\n",
    "            nxt = start + 1\n",
    "    return get_next(nxt, r + 1)\n",
    "        "
   ]
  },
  {
   "cell_type": "code",
   "execution_count": 7,
   "metadata": {},
   "outputs": [],
   "source": [
    "random.seed(SEED)\n",
    "results = list()\n",
    "for i in range(0,10000):\n",
    "    results.append(get_next(start_pos, 1))"
   ]
  },
  {
   "cell_type": "markdown",
   "metadata": {},
   "source": [
    "Probability Density"
   ]
  },
  {
   "cell_type": "code",
   "execution_count": 8,
   "metadata": {},
   "outputs": [
    {
     "data": {
      "text/plain": [
       "array([ 0.0172,  0.0573,  0.1231,  0.1962,  0.2188,  0.1901,  0.1203,\n",
       "        0.0612,  0.0158])"
      ]
     },
     "execution_count": 8,
     "metadata": {},
     "output_type": "execute_result"
    }
   ],
   "source": [
    "probs = histogram(results, density=True, bins=range(1,11))[0]\n",
    "probs"
   ]
  },
  {
   "cell_type": "code",
   "execution_count": 9,
   "metadata": {
    "scrolled": true
   },
   "outputs": [
    {
     "data": {
      "image/png": "[encoded data removed]",
      "text/plain": [
       "<matplotlib.figure.Figure at 0x10f2610b8>"
      ]
     },
     "metadata": {},
     "output_type": "display_data"
    }
   ],
   "source": [
    "plt.bar(range(1,10), probs)\n",
    "plt.show()"
   ]
  },
  {
   "cell_type": "markdown",
   "metadata": {},
   "source": [
    "Expected Value"
   ]
  },
  {
   "cell_type": "code",
   "execution_count": 10,
   "metadata": {
    "collapsed": true
   },
   "outputs": [],
   "source": [
    "values = [100, 500, 1000, 0, 10000, 0, 1000, 500, 100]"
   ]
  },
  {
   "cell_type": "code",
   "execution_count": 11,
   "metadata": {},
   "outputs": [
    {
     "data": {
      "text/plain": [
       "2493.9499999999998"
      ]
     },
     "execution_count": 11,
     "metadata": {},
     "output_type": "execute_result"
    }
   ],
   "source": [
    "sum(probs*values)"
   ]
  },
  {
   "cell_type": "code",
   "execution_count": 12,
   "metadata": {},
   "outputs": [],
   "source": [
    "def simulate(start_pos):\n",
    "    results = list()\n",
    "    for i in range(0,10000):\n",
    "        results.append(get_next(start_pos, 1))\n",
    "    probs = histogram(results, density=True, bins=range(1,11))[0]\n",
    "    return {\n",
    "        \"Starting Point\": start_pos,\n",
    "        \"probability density\": list(probs),\n",
    "        \"Expected Value\": sum(probs*values)\n",
    "    }"
   ]
  },
  {
   "cell_type": "code",
   "execution_count": 13,
   "metadata": {},
   "outputs": [],
   "source": [
    "random.seed(SEED)\n",
    "expected = list()\n",
    "for x in range(1,10):\n",
    "    s = simulate(x)\n",
    "    expected.append(s)"
   ]
  },
  {
   "cell_type": "code",
   "execution_count": 14,
   "metadata": {},
   "outputs": [
    {
     "data": {
      "text/html": [
       "<div>\n",
       "<style scoped>\n",
       "    .dataframe tbody tr th:only-of-type {\n",
       "        vertical-align: middle;\n",
       "    }\n",
       "\n",
       "    .dataframe tbody tr th {\n",
       "        vertical-align: top;\n",
       "    }\n",
       "\n",
       "    .dataframe thead th {\n",
       "        text-align: right;\n",
       "    }\n",
       "</style>\n",
       "<table border=\"1\" class=\"dataframe\">\n",
       "  <thead>\n",
       "    <tr style=\"text-align: right;\">\n",
       "      <th></th>\n",
       "      <th>Starting Point</th>\n",
       "      <th>Expected Value</th>\n",
       "    </tr>\n",
       "  </thead>\n",
       "  <tbody>\n",
       "    <tr>\n",
       "      <th>0</th>\n",
       "      <td>1</td>\n",
       "      <td>794.50</td>\n",
       "    </tr>\n",
       "    <tr>\n",
       "      <th>1</th>\n",
       "      <td>2</td>\n",
       "      <td>1000.71</td>\n",
       "    </tr>\n",
       "    <tr>\n",
       "      <th>2</th>\n",
       "      <td>3</td>\n",
       "      <td>1580.60</td>\n",
       "    </tr>\n",
       "    <tr>\n",
       "      <th>3</th>\n",
       "      <td>4</td>\n",
       "      <td>2226.99</td>\n",
       "    </tr>\n",
       "    <tr>\n",
       "      <th>4</th>\n",
       "      <td>5</td>\n",
       "      <td>2608.94</td>\n",
       "    </tr>\n",
       "    <tr>\n",
       "      <th>5</th>\n",
       "      <td>6</td>\n",
       "      <td>2252.96</td>\n",
       "    </tr>\n",
       "    <tr>\n",
       "      <th>6</th>\n",
       "      <td>7</td>\n",
       "      <td>1557.26</td>\n",
       "    </tr>\n",
       "    <tr>\n",
       "      <th>7</th>\n",
       "      <td>8</td>\n",
       "      <td>993.46</td>\n",
       "    </tr>\n",
       "    <tr>\n",
       "      <th>8</th>\n",
       "      <td>9</td>\n",
       "      <td>756.81</td>\n",
       "    </tr>\n",
       "  </tbody>\n",
       "</table>\n",
       "</div>"
      ],
      "text/plain": [
       "   Starting Point  Expected Value\n",
       "0               1          794.50\n",
       "1               2         1000.71\n",
       "2               3         1580.60\n",
       "3               4         2226.99\n",
       "4               5         2608.94\n",
       "5               6         2252.96\n",
       "6               7         1557.26\n",
       "7               8          993.46\n",
       "8               9          756.81"
      ]
     },
     "execution_count": 14,
     "metadata": {},
     "output_type": "execute_result"
    }
   ],
   "source": [
    "pd.DataFrame(expected)[[\"Starting Point\", \"Expected Value\"]]"
   ]
  },
  {
   "cell_type": "code",
   "execution_count": null,
   "metadata": {
    "collapsed": true
   },
   "outputs": [],
   "source": []
  }
 ],
 "metadata": {
  "kernelspec": {
   "display_name": "Python 3",
   "language": "python",
   "name": "python3"
  },
  "language_info": {
   "codemirror_mode": {
    "name": "ipython",
    "version": 3
   },
   "file_extension": ".py",
   "mimetype": "text/x-python",
   "name": "python",
   "nbconvert_exporter": "python",
   "pygments_lexer": "ipython3",
   "version": "3.6.3"
  }
 },
 "nbformat": 4,
 "nbformat_minor": 2
}
